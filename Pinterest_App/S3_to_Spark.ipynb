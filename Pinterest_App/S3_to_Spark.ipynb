{
 "cells": [
  {
   "cell_type": "markdown",
   "metadata": {},
   "source": []
  },
  {
   "cell_type": "code",
   "execution_count": 14,
   "metadata": {},
   "outputs": [],
   "source": [
    "import boto3\n",
    "s3_client = boto3.client('s3')\n",
    "\n",
    "s3_client.download_file(Bucket='pinterestkafkabucket',Key='2022-02-24 21:02:20.json',Filename='./2022-02-24 21:02:20.json')"
   ]
  },
  {
   "cell_type": "code",
   "execution_count": 7,
   "metadata": {},
   "outputs": [
    {
     "name": "stdout",
     "output_type": "stream",
     "text": [
      "s3://pinterestkafkabucket/2022-02-23 20:42:07.json: Unsupported scheme ‘s3’.\n"
     ]
    }
   ],
   "source": [
    "!wget 's3://pinterestkafkabucket/2022-02-23 20:42:07.json'"
   ]
  },
  {
   "cell_type": "code",
   "execution_count": 15,
   "metadata": {},
   "outputs": [
    {
     "name": "stdout",
     "output_type": "stream",
     "text": [
      "{'category': 'travel', 'index': 10020, 'unique_id': '56cac475-b169-42cd-94b0-16978dff21d8', 'title': '10 Tips for Planning a Trip to Scotland and Ireland', 'description': 'Ten tips to keep in mind when planning a trip to Scotland and Ireland to make sure you have the best travel experience possible!', 'follower_count': '5k', 'tag_list': 'Scotland Vacation,Scotland Road Trip,Ireland Vacation,Scotland Travel,Scotland Uk,Italy Vacation,Emerald Isle,Places To Travel,Travel Destinations', 'is_image_or_video': 'image', 'image_src': 'https://i.pinimg.com/originals/71/ac/1e/71ac1e87ac36489ce1fe4695c279ec26.png', 'downloaded': 1, 'save_location': 'Local save in /data/travel'}\n",
      "<class 'dict'>\n"
     ]
    }
   ],
   "source": [
    "import json\n",
    "\n",
    "with open('2022-02-24 21:02:20.json', mode='r') as json_file:\n",
    "    #print(type(json_file))\n",
    "    #data = json.loads(json_file.read())\n",
    "    data = json.load(json_file)\n",
    "    #print(type(data))\n",
    "    #ast.literal_eval(data)\n",
    "\n",
    "print(data)\n",
    "print(type(data))\n",
    "\n",
    "\n"
   ]
  },
  {
   "cell_type": "code",
   "execution_count": null,
   "metadata": {},
   "outputs": [],
   "source": [
    "# Three ways to clean the data\n",
    "# 1. Tag list - put into list comma delimit\n",
    "# 2. is image_or_video - boolean\n",
    "# 3. re-order? UUID first?"
   ]
  },
  {
   "cell_type": "markdown",
   "metadata": {},
   "source": [
    "# Spark connecting to S3"
   ]
  },
  {
   "cell_type": "code",
   "execution_count": 1,
   "metadata": {},
   "outputs": [
    {
     "name": "stderr",
     "output_type": "stream",
     "text": [
      "22/03/02 20:28:25 WARN Utils: Your hostname, martin96-TP300LA resolves to a loopback address: 127.0.1.1; using 192.168.1.109 instead (on interface wlp2s0)\n",
      "22/03/02 20:28:25 WARN Utils: Set SPARK_LOCAL_IP if you need to bind to another address\n",
      "Using Spark's default log4j profile: org/apache/spark/log4j-defaults.properties\n",
      "Setting default log level to \"WARN\".\n",
      "To adjust logging level use sc.setLogLevel(newLevel). For SparkR, use setLogLevel(newLevel).\n",
      "22/03/02 20:28:26 WARN NativeCodeLoader: Unable to load native-hadoop library for your platform... using builtin-java classes where applicable\n"
     ]
    }
   ],
   "source": [
    "import json\n",
    "import boto3\n",
    "import pyspark\n",
    "import findspark\n",
    "import multiprocessing\n",
    "findspark.init('/home/martin96/Spark/spark-3.2.1-bin-hadoop3.2')\n",
    "s3_client = boto3.client('s3')\n",
    "sessions3 = boto3.Session()\n",
    "s3 = sessions3.resource('s3')\n",
    "my_bucket = s3.Bucket('pinterestkafkabucket')\n",
    "\n",
    "conf = (\n",
    "    pyspark.SparkConf()\n",
    "    # Setting where master node is located [cores for multiprocessing]\n",
    "    .setMaster(f\"local[{multiprocessing.cpu_count()}]\")\n",
    "    # Setting application name\n",
    "    .setAppName(\"TestApp\")\n",
    "    # Setting config value via string\n",
    "    .set(\"spark.eventLog.enabled\", False)\n",
    "    # Setting environment variables for executors to use\n",
    "    .setExecutorEnv(pairs=[(\"VAR3\", \"value3\"), (\"VAR4\", \"value4\")])\n",
    "    # Setting memory if this setting was not set previously\n",
    "    .setIfMissing(\"spark.executor.memory\", \"1g\")\n",
    ")\n",
    "sessionsp = pyspark.sql.SparkSession.builder.config(conf=conf).getOrCreate()\n",
    "sc = sessionsp.sparkContext\n"
   ]
  },
  {
   "cell_type": "code",
   "execution_count": 76,
   "metadata": {},
   "outputs": [
    {
     "name": "stdout",
     "output_type": "stream",
     "text": [
      "+--------------+\n",
      "|      category|\n",
      "+--------------+\n",
      "|        travel|\n",
      "|           art|\n",
      "|diy-and-crafts|\n",
      "|      vehicles|\n",
      "|     education|\n",
      "|  mens-fashion|\n",
      "|        travel|\n",
      "|     education|\n",
      "|           art|\n",
      "|     christmas|\n",
      "|diy-and-crafts|\n",
      "+--------------+\n",
      "\n"
     ]
    }
   ],
   "source": [
    "import pandas as pd\n",
    "from functools import reduce\n",
    "#df = sessionsp.createDataFrame(pkeys.collect())\n",
    "df_list = []\n",
    "for obj in my_bucket.objects.all():\n",
    "### Read streaming body\n",
    "    obj = s3_client.get_object(Bucket='pinterestkafkabucket', Key=obj.key)\n",
    "    content = obj['Body'].read()\n",
    "    data = json.loads(content)\n",
    "    pkeys = sc.parallelize([data])\n",
    "    norm = pd.json_normalize(pkeys.collect())\n",
    "    norm_list = norm.iloc[0].tolist()\n",
    "    df = sessionsp.createDataFrame(pd.DataFrame(norm, columns=norm.keys()))\n",
    "    df_list.append(df)\n",
    "df = reduce(pyspark.sql.DataFrame.union, df_list)\n",
    "#df.show()\n",
    "df.select(\"category\").show()"
   ]
  },
  {
   "cell_type": "code",
   "execution_count": 67,
   "metadata": {},
   "outputs": [
    {
     "data": {
      "text/html": [
       "<div>\n",
       "<style scoped>\n",
       "    .dataframe tbody tr th:only-of-type {\n",
       "        vertical-align: middle;\n",
       "    }\n",
       "\n",
       "    .dataframe tbody tr th {\n",
       "        vertical-align: top;\n",
       "    }\n",
       "\n",
       "    .dataframe thead th {\n",
       "        text-align: right;\n",
       "    }\n",
       "</style>\n",
       "<table border=\"1\" class=\"dataframe\">\n",
       "  <thead>\n",
       "    <tr style=\"text-align: right;\">\n",
       "      <th></th>\n",
       "      <th>category</th>\n",
       "      <th>index</th>\n",
       "      <th>unique_id</th>\n",
       "      <th>title</th>\n",
       "      <th>description</th>\n",
       "      <th>follower_count</th>\n",
       "      <th>tag_list</th>\n",
       "      <th>is_image_or_video</th>\n",
       "      <th>image_src</th>\n",
       "      <th>downloaded</th>\n",
       "      <th>save_location</th>\n",
       "    </tr>\n",
       "  </thead>\n",
       "  <tbody>\n",
       "    <tr>\n",
       "      <th>0</th>\n",
       "      <td>diy-and-crafts</td>\n",
       "      <td>3032</td>\n",
       "      <td>208b07bc-e042-4e84-8855-97905f691848</td>\n",
       "      <td>Puffy Ghost Craft</td>\n",
       "      <td>This ghost craft is a super simple Halloween c...</td>\n",
       "      <td>56k</td>\n",
       "      <td>Halloween Arts And Crafts,Halloween Crafts For...</td>\n",
       "      <td>video</td>\n",
       "      <td>https://i.pinimg.com/videos/thumbnails/origina...</td>\n",
       "      <td>1</td>\n",
       "      <td>Local save in /data/diy-and-crafts</td>\n",
       "    </tr>\n",
       "  </tbody>\n",
       "</table>\n",
       "</div>"
      ],
      "text/plain": [
       "         category  index                             unique_id  \\\n",
       "0  diy-and-crafts   3032  208b07bc-e042-4e84-8855-97905f691848   \n",
       "\n",
       "               title                                        description  \\\n",
       "0  Puffy Ghost Craft  This ghost craft is a super simple Halloween c...   \n",
       "\n",
       "  follower_count                                           tag_list  \\\n",
       "0            56k  Halloween Arts And Crafts,Halloween Crafts For...   \n",
       "\n",
       "  is_image_or_video                                          image_src  \\\n",
       "0             video  https://i.pinimg.com/videos/thumbnails/origina...   \n",
       "\n",
       "   downloaded                       save_location  \n",
       "0           1  Local save in /data/diy-and-crafts  "
      ]
     },
     "execution_count": 67,
     "metadata": {},
     "output_type": "execute_result"
    }
   ],
   "source": [
    "#n = pd.DataFrame(norm)\n",
    "# obj = json.loads(norm)\n",
    "# pairs = obj.items()\n",
    "# it_list = []\n",
    "# for k, v in pairs:\n",
    "#     it_list.append(v)\n",
    "# print(it_list)\n",
    "#norm.iloc[0].tolist()\n",
    "pd.DataFrame(norm, columns=norm.keys())\n"
   ]
  },
  {
   "cell_type": "code",
   "execution_count": 1,
   "metadata": {},
   "outputs": [
    {
     "name": "stderr",
     "output_type": "stream",
     "text": [
      "22/03/02 19:59:34 WARN Utils: Your hostname, martin96-TP300LA resolves to a loopback address: 127.0.1.1; using 192.168.1.109 instead (on interface wlp2s0)\n",
      "22/03/02 19:59:34 WARN Utils: Set SPARK_LOCAL_IP if you need to bind to another address\n",
      "Using Spark's default log4j profile: org/apache/spark/log4j-defaults.properties\n",
      "Setting default log level to \"WARN\".\n",
      "To adjust logging level use sc.setLogLevel(newLevel). For SparkR, use setLogLevel(newLevel).\n",
      "22/03/02 19:59:38 WARN NativeCodeLoader: Unable to load native-hadoop library for your platform... using builtin-java classes where applicable\n"
     ]
    },
    {
     "name": "stdout",
     "output_type": "stream",
     "text": [
      "ParallelCollectionRDD[0] at readRDDFromFile at PythonRDD.scala:274\n"
     ]
    }
   ],
   "source": [
    "import json\n",
    "import boto3\n",
    "import pyspark\n",
    "import findspark\n",
    "findspark.init('/home/martin96/Spark/spark-3.2.1-bin-hadoop3.2')\n",
    "s3_client = boto3.client('s3')\n",
    "\n",
    "### Read streaming body\n",
    "obj = s3_client.get_object(Bucket='pinterestkafkabucket', Key=\"2022-02-24 21:02:20.json\")\n",
    "content = obj['Body'].read()\n",
    "data = json.loads(content)\n",
    "# my_list = []\n",
    "# for v, k in zip(data.values(), data.keys()):\n",
    "#     my_list.append(k)\n",
    "#     my_list.append(v)\n",
    "\n",
    "#print(my_list)\n",
    "###\n",
    "# Get a Spark context and use it to parallelize the keys\n",
    "conf = pyspark.SparkConf().setAppName(\"PinterestApp\")\n",
    "sc = pyspark.SparkContext(conf=conf)\n",
    "pkeys = sc.parallelize([data]) #keys)\n",
    "print(pkeys)"
   ]
  },
  {
   "cell_type": "code",
   "execution_count": 11,
   "metadata": {},
   "outputs": [
    {
     "data": {
      "text/plain": [
       "1"
      ]
     },
     "execution_count": 11,
     "metadata": {},
     "output_type": "execute_result"
    }
   ],
   "source": [
    "#rdd2 = sc.parallelize(list(pkeys.items()))\n",
    "#rdd3 = pkeys.map(lambda x: dict([x]))\n",
    "pkeys.count()"
   ]
  },
  {
   "cell_type": "code",
   "execution_count": 47,
   "metadata": {},
   "outputs": [
    {
     "name": "stdout",
     "output_type": "stream",
     "text": [
      "{'category': 'travel', 'index': 10020, 'unique_id': '56cac475-b169-42cd-94b0-16978dff21d8', 'title': '10 Tips for Planning a Trip to Scotland and Ireland', 'description': 'Ten tips to keep in mind when planning a trip to Scotland and Ireland to make sure you have the best travel experience possible!', 'follower_count': '5k', 'tag_list': 'Scotland Vacation,Scotland Road Trip,Ireland Vacation,Scotland Travel,Scotland Uk,Italy Vacation,Emerald Isle,Places To Travel,Travel Destinations', 'is_image_or_video': 'image', 'image_src': 'https://i.pinimg.com/originals/71/ac/1e/71ac1e87ac36489ce1fe4695c279ec26.png', 'downloaded': 1, 'save_location': 'Local save in /data/travel'}\n"
     ]
    }
   ],
   "source": [
    "print(data)"
   ]
  },
  {
   "cell_type": "code",
   "execution_count": 9,
   "metadata": {},
   "outputs": [
    {
     "name": "stdout",
     "output_type": "stream",
     "text": [
      "{'category': 'travel', 'index': 10020, 'unique_id': '56cac475-b169-42cd-94b0-16978dff21d8', 'title': '10 Tips for Planning a Trip to Scotland and Ireland', 'description': 'Ten tips to keep in mind when planning a trip to Scotland and Ireland to make sure you have the best travel experience possible!', 'follower_count': '5k', 'tag_list': 'Scotland Vacation,Scotland Road Trip,Ireland Vacation,Scotland Travel,Scotland Uk,Italy Vacation,Emerald Isle,Places To Travel,Travel Destinations', 'is_image_or_video': 'image', 'image_src': 'https://i.pinimg.com/originals/71/ac/1e/71ac1e87ac36489ce1fe4695c279ec26.png', 'downloaded': 1, 'save_location': 'Local save in /data/travel'}\n"
     ]
    }
   ],
   "source": [
    "my_list = []\n",
    "for v, k in zip(data.values(), data.keys()):\n",
    "    my_list.append(k)\n",
    "    my_list.append(v)\n",
    "\n",
    "\n",
    "my_dict = dict(zip(my_list[::2], my_list[1::2]))\n",
    "print(my_dict)\n"
   ]
  },
  {
   "cell_type": "code",
   "execution_count": 14,
   "metadata": {},
   "outputs": [
    {
     "name": "stdout",
     "output_type": "stream",
     "text": [
      "{'category': 'travel', 'index': 10020, 'unique_id': '56cac475-b169-42cd-94b0-16978dff21d8', 'title': '10 Tips for Planning a Trip to Scotland and Ireland', 'description': 'Ten tips to keep in mind when planning a trip to Scotland and Ireland to make sure you have the best travel experience possible!', 'follower_count': '5k', 'tag_list': 'Scotland Vacation,Scotland Road Trip,Ireland Vacation,Scotland Travel,Scotland Uk,Italy Vacation,Emerald Isle,Places To Travel,Travel Destinations', 'is_image_or_video': 'image', 'image_src': 'https://i.pinimg.com/originals/71/ac/1e/71ac1e87ac36489ce1fe4695c279ec26.png', 'downloaded': 1, 'save_location': 'Local save in /data/travel'}\n"
     ]
    }
   ],
   "source": [
    "def pairwise(iterable):\n",
    "    a = iter(iterable)\n",
    "    return zip(a, a)\n",
    "\n",
    "#pkeys = sc.parallelize(data)\n",
    "act = dict(pairwise(pkeys.collect()))\n",
    "#pkeys.saveAsTextFile('./')"
   ]
  },
  {
   "cell_type": "code",
   "execution_count": 10,
   "metadata": {},
   "outputs": [
    {
     "ename": "FileNotFoundError",
     "evalue": "[Errno 2] No such file or directory: \"defaultdict(<class 'int'>, {})\"",
     "output_type": "error",
     "traceback": [
      "\u001b[0;31m---------------------------------------------------------------------------\u001b[0m",
      "\u001b[0;31mFileNotFoundError\u001b[0m                         Traceback (most recent call last)",
      "\u001b[0;32m/tmp/ipykernel_7739/1746759592.py\u001b[0m in \u001b[0;36m<module>\u001b[0;34m\u001b[0m\n\u001b[1;32m      5\u001b[0m \u001b[0;31m# print(data)\u001b[0m\u001b[0;34m\u001b[0m\u001b[0;34m\u001b[0m\u001b[0m\n\u001b[1;32m      6\u001b[0m \u001b[0;31m#pkeys = sc.parallelize(obj['Body'])\u001b[0m\u001b[0;34m\u001b[0m\u001b[0;34m\u001b[0m\u001b[0m\n\u001b[0;32m----> 7\u001b[0;31m \u001b[0;32mwith\u001b[0m \u001b[0mopen\u001b[0m\u001b[0;34m(\u001b[0m\u001b[0mstr\u001b[0m\u001b[0;34m(\u001b[0m\u001b[0mpkeys\u001b[0m\u001b[0;34m)\u001b[0m\u001b[0;34m,\u001b[0m \u001b[0mmode\u001b[0m\u001b[0;34m=\u001b[0m\u001b[0;34m'r'\u001b[0m\u001b[0;34m)\u001b[0m \u001b[0;32mas\u001b[0m \u001b[0mjson_file\u001b[0m\u001b[0;34m:\u001b[0m\u001b[0;34m\u001b[0m\u001b[0;34m\u001b[0m\u001b[0m\n\u001b[0m\u001b[1;32m      8\u001b[0m     \u001b[0mdata\u001b[0m \u001b[0;34m=\u001b[0m \u001b[0mjson\u001b[0m\u001b[0;34m.\u001b[0m\u001b[0mload\u001b[0m\u001b[0;34m(\u001b[0m\u001b[0mjson_file\u001b[0m\u001b[0;34m)\u001b[0m\u001b[0;34m\u001b[0m\u001b[0;34m\u001b[0m\u001b[0m\n\u001b[1;32m      9\u001b[0m \u001b[0mprint\u001b[0m\u001b[0;34m(\u001b[0m\u001b[0mdata\u001b[0m\u001b[0;34m)\u001b[0m\u001b[0;34m\u001b[0m\u001b[0;34m\u001b[0m\u001b[0m\n",
      "\u001b[0;31mFileNotFoundError\u001b[0m: [Errno 2] No such file or directory: \"defaultdict(<class 'int'>, {})\""
     ]
    }
   ],
   "source": [
    "# import json\n",
    "# #print(obj['Body'])\n",
    "# with open(obj['Body'], mode='r') as json_file:\n",
    "#     data = json.load(json_file)\n",
    "# print(data)\n",
    "pkeys = sc.parallelize(obj['Body'])\n",
    "pkeys = pkeys.countByValue()\n",
    "print(pkeys)"
   ]
  },
  {
   "cell_type": "code",
   "execution_count": 4,
   "metadata": {},
   "outputs": [],
   "source": [
    "session = boto3.Session()"
   ]
  },
  {
   "cell_type": "code",
   "execution_count": 5,
   "metadata": {},
   "outputs": [
    {
     "name": "stdout",
     "output_type": "stream",
     "text": [
      "2022-02-24 21:02:20.json\n",
      "2022-02-24 21:02:23.json\n",
      "2022-02-24 21:02:24.json\n",
      "2022-02-24 21:02:25.json\n",
      "2022-02-24 21:02:26.json\n",
      "2022-02-24 21:02:28.json\n",
      "2022-02-24 21:02:30.json\n",
      "2022-02-24 21:02:31.json\n",
      "2022-02-24 21:02:32.json\n",
      "2022-02-24 21:02:34.json\n",
      "2022-02-24 21:02:36.json\n"
     ]
    }
   ],
   "source": [
    "s3 = session.resource('s3')\n",
    "my_bucket = s3.Bucket('pinterestkafkabucket')\n",
    "\n",
    "for obj in my_bucket.objects.all():\n",
    "    print(obj.key)"
   ]
  },
  {
   "cell_type": "code",
   "execution_count": 18,
   "metadata": {},
   "outputs": [
    {
     "name": "stdout",
     "output_type": "stream",
     "text": [
      "dict_keys(['ResponseMetadata', 'IsTruncated', 'Marker', 'Contents', 'Name', 'Prefix', 'MaxKeys', 'EncodingType'])\n"
     ]
    },
    {
     "data": {
      "text/plain": [
       "'2022-02-24 21:02:20.json'"
      ]
     },
     "execution_count": 18,
     "metadata": {},
     "output_type": "execute_result"
    }
   ],
   "source": [
    "s3_client = boto3.client('s3')\n",
    "my_objs = s3_client.list_objects(Bucket='pinterestkafkabucket')\n",
    "\n",
    "print(my_objs.keys())\n",
    "my_objs['Contents'][0]['Key']"
   ]
  },
  {
   "cell_type": "code",
   "execution_count": null,
   "metadata": {},
   "outputs": [],
   "source": []
  }
 ],
 "metadata": {
  "interpreter": {
   "hash": "b957f52f813f83e0b8321e25f7fdd54a5fc4f710366bb94dfdef51730d1694ed"
  },
  "kernelspec": {
   "display_name": "Python 3.9.7 ('AICORE_Course_Env')",
   "language": "python",
   "name": "python3"
  },
  "language_info": {
   "codemirror_mode": {
    "name": "ipython",
    "version": 3
   },
   "file_extension": ".py",
   "mimetype": "text/x-python",
   "name": "python",
   "nbconvert_exporter": "python",
   "pygments_lexer": "ipython3",
   "version": "3.9.7"
  },
  "orig_nbformat": 4
 },
 "nbformat": 4,
 "nbformat_minor": 2
}
