{
 "cells": [
  {
   "cell_type": "markdown",
   "metadata": {},
   "source": [
    "# Reading data from hbase using spark"
   ]
  },
  {
   "cell_type": "code",
   "execution_count": 1,
   "metadata": {},
   "outputs": [
    {
     "name": "stderr",
     "output_type": "stream",
     "text": [
      "22/03/09 21:13:27 WARN Utils: Your hostname, martin96-TP300LA resolves to a loopback address: 127.0.1.1; using 192.168.1.109 instead (on interface wlp2s0)\n",
      "22/03/09 21:13:27 WARN Utils: Set SPARK_LOCAL_IP if you need to bind to another address\n",
      "Using Spark's default log4j profile: org/apache/spark/log4j-defaults.properties\n",
      "Setting default log level to \"WARN\".\n",
      "To adjust logging level use sc.setLogLevel(newLevel). For SparkR, use setLogLevel(newLevel).\n",
      "22/03/09 21:13:30 WARN NativeCodeLoader: Unable to load native-hadoop library for your platform... using builtin-java classes where applicable\n"
     ]
    },
    {
     "name": "stdout",
     "output_type": "stream",
     "text": [
      "rowKey STRING :key,f_name STRING cf:first_name\n"
     ]
    },
    {
     "name": "stderr",
     "output_type": "stream",
     "text": [
      "[Stage 0:>                                                          (0 + 1) / 1]\r"
     ]
    },
    {
     "name": "stdout",
     "output_type": "stream",
     "text": [
      "+------+------+\n",
      "|f_name|rowKey|\n",
      "+------+------+\n",
      "|Martin|     1|\n",
      "+------+------+\n",
      "\n"
     ]
    },
    {
     "name": "stderr",
     "output_type": "stream",
     "text": [
      "                                                                                \r"
     ]
    }
   ],
   "source": [
    "import findspark\n",
    "import multiprocessing\n",
    "from pyspark.sql import SparkSession\n",
    "from pyspark import SQLContext, SparkContext, SparkConf\n",
    "\n",
    "findspark.init('/home/martin96/Spark/spark-3.2.1-bin-hadoop3.2')\n",
    "findspark.find()\n",
    "\n",
    "def read_hbase():\n",
    "    conf = (SparkConf().setAppName(\"RW_from_HBase\"))\n",
    "\n",
    "    spark = SparkSession.builder.appName(\" \").config(conf=conf).getOrCreate() \n",
    "\n",
    "    df = spark.read.format(\"org.apache.hadoop.hbase.spark\").option(\"hbase.columns.mapping\",\n",
    "            \"rowKey STRING :key,\" + \n",
    "            \"f_name STRING cf:first_name\").option(\"hbase.spark.pushdown.columnfilter\", True) \\\n",
    "                .option(\"hbase.table\", \"test_v1\") \\\n",
    "                .option(\"hbase.spark.use.hbasecontext\", False) \\\n",
    "                .load()\n",
    "    df.show()\n",
    "\n",
    "read_hbase()"
   ]
  },
  {
   "cell_type": "code",
   "execution_count": 9,
   "metadata": {},
   "outputs": [
    {
     "name": "stdout",
     "output_type": "stream",
     "text": [
      "rowKey STRING :key,f_name STRING cf:first_name,l_name STRING cf:last_name,m_name STRING cf:first_name\n",
      "rowKey STRING :key,f_name STRING cf:first_name,l_name STRING cf:first_name,m_name STRING cf:first_name\n"
     ]
    },
    {
     "name": "stderr",
     "output_type": "stream",
     "text": [
      "22/03/10 19:41:16 WARN FileOutputCommitter: Output Path is null in setupJob()\n",
      "22/03/10 19:41:17 WARN FileOutputCommitter: Output Path is null in commitJob()\n",
      "22/03/10 19:41:17 WARN FileOutputCommitter: Output Path is null in setupJob()\n",
      "22/03/10 19:41:17 WARN FileOutputCommitter: Output Path is null in commitJob()\n"
     ]
    },
    {
     "name": "stdout",
     "output_type": "stream",
     "text": [
      "+--------+--------+--------+------+\n",
      "|  f_name|  l_name|  m_name|rowKey|\n",
      "+--------+--------+--------+------+\n",
      "|  Martin|    null|  Martin|     1|\n",
      "|anderson|anderson|anderson|     2|\n",
      "|    john|   smith|    john|     3|\n",
      "+--------+--------+--------+------+\n",
      "\n"
     ]
    }
   ],
   "source": [
    "import findspark\n",
    "import multiprocessing\n",
    "from pyspark.sql import SparkSession\n",
    "from pyspark import SQLContext, SparkContext, SparkConf\n",
    "\n",
    "findspark.init('/home/martin96/Spark/spark-3.2.1-bin-hadoop3.2')\n",
    "findspark.find()\n",
    "\n",
    "def write_to_hbase():\n",
    "    conf = (SparkConf().setAppName(\"RW_from_HBase\"))\n",
    "\n",
    "    spark = SparkSession.builder.appName(\" \").config(conf=conf).getOrCreate()\n",
    "\n",
    "    df = spark.read.format(\"org.apache.hadoop.hbase.spark\").option(\"hbase.columns.mapping\",\n",
    "            \"rowKey STRING :key,\" + \n",
    "            \"f_name STRING cf:first_name,\" + \"l_name STRING cf:last_name,\" + \"m_name STRING cf:first_name\").option(\"hbase.spark.pushdown.columnfilter\", True) \\\n",
    "                .option(\"hbase.table\", \"test_v1\") \\\n",
    "                .option(\"hbase.spark.use.hbasecontext\", False) \\\n",
    "                .load()\n",
    "\n",
    "    df.write.format(\"org.apache.hadoop.hbase.spark\").option(\"hbase.columns.mapping\",\n",
    "            \"rowKey STRING :key,\" + \n",
    "            \"f_name STRING cf:first_name,\" + \"l_name STRING cf:first_name,\" + \"m_name STRING cf:first_name\").option(\"hbase.spark.pushdown.columnfilter\", True) \\\n",
    "                .option(\"hbase.table\", \"test_v1\") \\\n",
    "                .option(\"hbase.spark.use.hbasecontext\", False) \\\n",
    "                .save()\n",
    "    df.createOrReplaceTempView(\"table\")\n",
    "    spark.sql(\"INSERT INTO table (rowKey, f_name, l_name, m_name) VALUES ('3', 'steve','smith', 'john')\")\n",
    "    df.show()\n",
    "\n",
    "write_to_hbase()"
   ]
  },
  {
   "cell_type": "code",
   "execution_count": null,
   "metadata": {},
   "outputs": [],
   "source": []
  }
 ],
 "metadata": {
  "interpreter": {
   "hash": "b957f52f813f83e0b8321e25f7fdd54a5fc4f710366bb94dfdef51730d1694ed"
  },
  "kernelspec": {
   "display_name": "Python 3.9.7 ('AICORE_Course_Env')",
   "language": "python",
   "name": "python3"
  },
  "language_info": {
   "codemirror_mode": {
    "name": "ipython",
    "version": 3
   },
   "file_extension": ".py",
   "mimetype": "text/x-python",
   "name": "python",
   "nbconvert_exporter": "python",
   "pygments_lexer": "ipython3",
   "version": "3.9.5"
  },
  "orig_nbformat": 4
 },
 "nbformat": 4,
 "nbformat_minor": 2
}
